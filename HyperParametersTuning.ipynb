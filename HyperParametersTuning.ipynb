{
 "cells": [
  {
   "cell_type": "markdown",
   "metadata": {},
   "source": [
    "# We will use grid search to find the best candidate model-decision tree classifier- for our data with -gridsearchcv- which uses cross validation\n",
    "## warning: Grid search is very computationally expensive - use hyperparameter space random search instead if your search space is very complex"
   ]
  },
  {
   "cell_type": "code",
   "execution_count": 3,
   "metadata": {},
   "outputs": [],
   "source": [
    "import pandas as pd\n",
    "import numpy as np\n",
    "\n",
    "from sklearn.model_selection import train_test_split\n",
    "from sklearn.metrics import accuracy_score\n",
    "from sklearn.metrics import precision_score\n",
    "from sklearn.metrics import recall_score\n",
    "\n",
    "from sklearn.linear_model import LogisticRegression\n",
    "from sklearn.tree import DecisionTreeClassifier"
   ]
  },
  {
   "cell_type": "code",
   "execution_count": 5,
   "metadata": {},
   "outputs": [
    {
     "data": {
      "text/html": [
       "<div>\n",
       "<style scoped>\n",
       "    .dataframe tbody tr th:only-of-type {\n",
       "        vertical-align: middle;\n",
       "    }\n",
       "\n",
       "    .dataframe tbody tr th {\n",
       "        vertical-align: top;\n",
       "    }\n",
       "\n",
       "    .dataframe thead th {\n",
       "        text-align: right;\n",
       "    }\n",
       "</style>\n",
       "<table border=\"1\" class=\"dataframe\">\n",
       "  <thead>\n",
       "    <tr style=\"text-align: right;\">\n",
       "      <th></th>\n",
       "      <th>Survived</th>\n",
       "      <th>Pclass</th>\n",
       "      <th>Sex</th>\n",
       "      <th>Age</th>\n",
       "      <th>SibSp</th>\n",
       "      <th>Parch</th>\n",
       "      <th>Fare</th>\n",
       "      <th>Embarked_C</th>\n",
       "      <th>Embarked_Q</th>\n",
       "      <th>Embarked_S</th>\n",
       "    </tr>\n",
       "  </thead>\n",
       "  <tbody>\n",
       "    <tr>\n",
       "      <th>0</th>\n",
       "      <td>0</td>\n",
       "      <td>3</td>\n",
       "      <td>1</td>\n",
       "      <td>19.0</td>\n",
       "      <td>0</td>\n",
       "      <td>0</td>\n",
       "      <td>7.6500</td>\n",
       "      <td>0</td>\n",
       "      <td>0</td>\n",
       "      <td>1</td>\n",
       "    </tr>\n",
       "    <tr>\n",
       "      <th>1</th>\n",
       "      <td>0</td>\n",
       "      <td>1</td>\n",
       "      <td>1</td>\n",
       "      <td>38.0</td>\n",
       "      <td>0</td>\n",
       "      <td>1</td>\n",
       "      <td>153.4625</td>\n",
       "      <td>0</td>\n",
       "      <td>0</td>\n",
       "      <td>1</td>\n",
       "    </tr>\n",
       "    <tr>\n",
       "      <th>2</th>\n",
       "      <td>0</td>\n",
       "      <td>3</td>\n",
       "      <td>1</td>\n",
       "      <td>17.0</td>\n",
       "      <td>0</td>\n",
       "      <td>0</td>\n",
       "      <td>8.6625</td>\n",
       "      <td>0</td>\n",
       "      <td>0</td>\n",
       "      <td>1</td>\n",
       "    </tr>\n",
       "    <tr>\n",
       "      <th>3</th>\n",
       "      <td>0</td>\n",
       "      <td>1</td>\n",
       "      <td>1</td>\n",
       "      <td>62.0</td>\n",
       "      <td>0</td>\n",
       "      <td>0</td>\n",
       "      <td>26.5500</td>\n",
       "      <td>0</td>\n",
       "      <td>0</td>\n",
       "      <td>1</td>\n",
       "    </tr>\n",
       "    <tr>\n",
       "      <th>4</th>\n",
       "      <td>1</td>\n",
       "      <td>1</td>\n",
       "      <td>0</td>\n",
       "      <td>23.0</td>\n",
       "      <td>3</td>\n",
       "      <td>2</td>\n",
       "      <td>263.0000</td>\n",
       "      <td>0</td>\n",
       "      <td>0</td>\n",
       "      <td>1</td>\n",
       "    </tr>\n",
       "  </tbody>\n",
       "</table>\n",
       "</div>"
      ],
      "text/plain": [
       "   Survived  Pclass  Sex   Age  SibSp  Parch      Fare  Embarked_C  \\\n",
       "0         0       3    1  19.0      0      0    7.6500           0   \n",
       "1         0       1    1  38.0      0      1  153.4625           0   \n",
       "2         0       3    1  17.0      0      0    8.6625           0   \n",
       "3         0       1    1  62.0      0      0   26.5500           0   \n",
       "4         1       1    0  23.0      3      2  263.0000           0   \n",
       "\n",
       "   Embarked_Q  Embarked_S  \n",
       "0           0           1  \n",
       "1           0           1  \n",
       "2           0           1  \n",
       "3           0           1  \n",
       "4           0           1  "
      ]
     },
     "execution_count": 5,
     "metadata": {},
     "output_type": "execute_result"
    }
   ],
   "source": [
    "titanic_df = pd.read_csv('titanic_processed.csv')\n",
    "\n",
    "titanic_df.head()"
   ]
  },
  {
   "cell_type": "code",
   "execution_count": 7,
   "metadata": {},
   "outputs": [],
   "source": [
    "X = titanic_df.drop('Survived', axis=1)\n",
    "\n",
    "Y = titanic_df['Survived']\n",
    "\n",
    "x_train, x_test, y_train, y_test = train_test_split(X, Y, test_size=0.2)"
   ]
  },
  {
   "cell_type": "code",
   "execution_count": 9,
   "metadata": {},
   "outputs": [],
   "source": [
    "def summarize_classification(y_test, y_pred):\n",
    "    \n",
    "    acc = accuracy_score(y_test, y_pred, normalize=True)\n",
    "    num_acc = accuracy_score(y_test, y_pred, normalize=False)\n",
    "\n",
    "    prec = precision_score(y_test, y_pred)\n",
    "    recall = recall_score(y_test, y_pred)\n",
    "    \n",
    "    print(\"Test data count: \",len(y_test))\n",
    "    print(\"accuracy_count : \" , num_acc)\n",
    "    print(\"accuracy_score : \" , acc)\n",
    "    print(\"precision_score : \" , prec)\n",
    "    print(\"recall_score : \", recall)\n",
    "    print()"
   ]
  },
  {
   "cell_type": "code",
   "execution_count": 11,
   "metadata": {},
   "outputs": [
    {
     "data": {
      "text/plain": [
       "{'max_depth': 4}"
      ]
     },
     "execution_count": 11,
     "metadata": {},
     "output_type": "execute_result"
    }
   ],
   "source": [
    "#import GridSearchCV -Grid Search Cross Validation\n",
    "from sklearn.model_selection import GridSearchCV\n",
    "\n",
    "#make a dict with different values of your hyperparamters\n",
    "parameters = {'max_depth': [2, 4, 5, 7, 9, 10]}\n",
    "\n",
    "#specifiy the estimator -DecisionTreeClassifier()- \n",
    "#pass your parameters -parameters- to build different models each with different hyperparamter\n",
    "#we will use 3-fold cross validation to find the best model, i.e. the training set will split into three sections\n",
    "#return_train_score=True will compare different models using the train_score accuracy\n",
    "grid_search = GridSearchCV(DecisionTreeClassifier(), parameters, cv=3, return_train_score=True)\n",
    "grid_search.fit(x_train, y_train)\n",
    "\n",
    "grid_search.best_params_"
   ]
  },
  {
   "cell_type": "code",
   "execution_count": 12,
   "metadata": {},
   "outputs": [
    {
     "name": "stdout",
     "output_type": "stream",
     "text": [
      "Parameters:  {'max_depth': 2}\n",
      "Mean Test Score:  0.7750487329434698\n",
      "Rank:  5\n",
      "Parameters:  {'max_depth': 4}\n",
      "Mean Test Score:  0.8154831523252577\n",
      "Rank:  1\n",
      "Parameters:  {'max_depth': 5}\n",
      "Mean Test Score:  0.806720504966119\n",
      "Rank:  2\n",
      "Parameters:  {'max_depth': 7}\n",
      "Mean Test Score:  0.7820941241993874\n",
      "Rank:  3\n",
      "Parameters:  {'max_depth': 9}\n",
      "Mean Test Score:  0.7627494662582383\n",
      "Rank:  6\n",
      "Parameters:  {'max_depth': 10}\n",
      "Mean Test Score:  0.77857606980414\n",
      "Rank:  4\n"
     ]
    }
   ],
   "source": [
    "#make comparison between all models\n",
    "#Notic the loop counts for how many model you created, in this case we create 6 models\n",
    "for i in range(6):\n",
    "    print('Parameters: ', grid_search.cv_results_['params'][i])\n",
    "\n",
    "    print('Mean Test Score: ', grid_search.cv_results_['mean_test_score'][i])\n",
    "    \n",
    "    print('Rank: ', grid_search.cv_results_['rank_test_score'][i])"
   ]
  },
  {
   "cell_type": "code",
   "execution_count": 14,
   "metadata": {},
   "outputs": [],
   "source": [
    "#let build a model with max_depth: 4\n",
    "decision_tree_model = DecisionTreeClassifier( \\\n",
    "    max_depth = grid_search.best_params_['max_depth']).fit(x_train, y_train)"
   ]
  },
  {
   "cell_type": "code",
   "execution_count": 15,
   "metadata": {},
   "outputs": [],
   "source": [
    "y_pred = decision_tree_model.predict(x_test)"
   ]
  },
  {
   "cell_type": "code",
   "execution_count": 16,
   "metadata": {},
   "outputs": [
    {
     "name": "stdout",
     "output_type": "stream",
     "text": [
      "Test data count:  143\n",
      "accuracy_count :  118\n",
      "accuracy_score :  0.8251748251748252\n",
      "precision_score :  0.8148148148148148\n",
      "recall_score :  0.7457627118644068\n",
      "\n"
     ]
    }
   ],
   "source": [
    "summarize_classification(y_test, y_pred)"
   ]
  },
  {
   "cell_type": "code",
   "execution_count": 17,
   "metadata": {},
   "outputs": [
    {
     "data": {
      "text/plain": [
       "{'C': 0.8, 'penalty': 'l1'}"
      ]
     },
     "execution_count": 17,
     "metadata": {},
     "output_type": "execute_result"
    }
   ],
   "source": [
    "# lets tune the hyperparameters for logistic regression\n",
    "#we will tune among different penalizers l1, l2 and different values for c\n",
    "parameters = {'penalty': ['l1', 'l2'], \n",
    "              'C': [0.1, 0.4, 0.8, 1, 2, 5]}\n",
    "\n",
    "grid_search = GridSearchCV(LogisticRegression(solver='liblinear'), parameters, cv=3, return_train_score=True)\n",
    "grid_search.fit(x_train, y_train)\n",
    "\n",
    "grid_search.best_params_"
   ]
  },
  {
   "cell_type": "code",
   "execution_count": 19,
   "metadata": {},
   "outputs": [
    {
     "name": "stdout",
     "output_type": "stream",
     "text": [
      "Parameters:  {'C': 0.1, 'penalty': 'l1'}\n",
      "Mean Test Score:  0.7715213960827997\n",
      "Rank:  12\n",
      "Parameters:  {'C': 0.1, 'penalty': 'l2'}\n",
      "Mean Test Score:  0.7785946347349856\n",
      "Rank:  11\n",
      "Parameters:  {'C': 0.4, 'penalty': 'l1'}\n",
      "Mean Test Score:  0.7838299452334541\n",
      "Rank:  10\n",
      "Parameters:  {'C': 0.4, 'penalty': 'l2'}\n",
      "Mean Test Score:  0.7838392276988767\n",
      "Rank:  9\n",
      "Parameters:  {'C': 0.8, 'penalty': 'l1'}\n",
      "Mean Test Score:  0.7978928803490207\n",
      "Rank:  1\n",
      "Parameters:  {'C': 0.8, 'penalty': 'l2'}\n",
      "Mean Test Score:  0.7908753364893716\n",
      "Rank:  8\n",
      "Parameters:  {'C': 1, 'penalty': 'l1'}\n",
      "Mean Test Score:  0.7961292119186855\n",
      "Rank:  3\n",
      "Parameters:  {'C': 1, 'penalty': 'l2'}\n",
      "Mean Test Score:  0.7926390049197067\n",
      "Rank:  5\n",
      "Parameters:  {'C': 2, 'penalty': 'l1'}\n",
      "Mean Test Score:  0.7978928803490207\n",
      "Rank:  1\n",
      "Parameters:  {'C': 2, 'penalty': 'l2'}\n",
      "Mean Test Score:  0.7926390049197067\n",
      "Rank:  5\n",
      "Parameters:  {'C': 5, 'penalty': 'l1'}\n",
      "Mean Test Score:  0.7943933908846189\n",
      "Rank:  4\n",
      "Parameters:  {'C': 5, 'penalty': 'l2'}\n",
      "Mean Test Score:  0.7926297224542839\n",
      "Rank:  7\n"
     ]
    }
   ],
   "source": [
    "#make comparison between all models\n",
    "#Notic the loop counts for how many model you created, in this case we create 12 models\n",
    "\n",
    "for i in range(12):\n",
    "    print('Parameters: ', grid_search.cv_results_['params'][i])\n",
    "    print('Mean Test Score: ', grid_search.cv_results_['mean_test_score'][i])\n",
    "    print('Rank: ', grid_search.cv_results_['rank_test_score'][i])"
   ]
  },
  {
   "cell_type": "code",
   "execution_count": null,
   "metadata": {},
   "outputs": [],
   "source": [
    "#Build a model wi\n",
    "\n",
    "logistic_model = LogisticRegression(solver='liblinear', \\\n",
    "    penalty=grid_search.best_params_['penalty'], C=grid_search.best_params_['C']). \\\n",
    "    fit(x_train, y_train)"
   ]
  }
 ],
 "metadata": {
  "kernelspec": {
   "display_name": "Python 3",
   "language": "python",
   "name": "python3"
  },
  "language_info": {
   "codemirror_mode": {
    "name": "ipython",
    "version": 3
   },
   "file_extension": ".py",
   "mimetype": "text/x-python",
   "name": "python",
   "nbconvert_exporter": "python",
   "pygments_lexer": "ipython3",
   "version": "3.8.5"
  }
 },
 "nbformat": 4,
 "nbformat_minor": 4
}
